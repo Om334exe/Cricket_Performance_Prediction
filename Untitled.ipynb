{
 "cells": [
  {
   "cell_type": "code",
   "execution_count": 1,
   "id": "c9027041",
   "metadata": {},
   "outputs": [],
   "source": [
    "import pandas as pd"
   ]
  },
  {
   "cell_type": "code",
   "execution_count": 2,
   "id": "4458278e",
   "metadata": {},
   "outputs": [],
   "source": [
    "bowlers = pd.read_csv('Bowlers.csv')"
   ]
  },
  {
   "cell_type": "code",
   "execution_count": null,
   "id": "51cde3c2",
   "metadata": {},
   "outputs": [],
   "source": []
  },
  {
   "cell_type": "code",
   "execution_count": 11,
   "id": "daf99368",
   "metadata": {
    "scrolled": false
   },
   "outputs": [
    {
     "name": "stdout",
     "output_type": "stream",
     "text": [
      "Enter the player name: S Lamichhane (NEP)\n",
      "Predicted wickets for S Lamichhane (NEP) in the next match (normalized by Ave): 5\n"
     ]
    },
    {
     "name": "stderr",
     "output_type": "stream",
     "text": [
      "/home/om/.local/lib/python3.10/site-packages/sklearn/base.py:439: UserWarning: X does not have valid feature names, but SimpleImputer was fitted with feature names\n",
      "  warnings.warn(\n"
     ]
    }
   ],
   "source": [
    "import pandas as pd\n",
    "from sklearn.linear_model import LinearRegression\n",
    "from sklearn.impute import SimpleImputer\n",
    "from sklearn.preprocessing import LabelEncoder\n",
    "import numpy as np\n",
    "\n",
    "class CustomLabelEncoder(LabelEncoder):\n",
    "    def fit_transform(self, y):\n",
    "        try:\n",
    "            return super().fit_transform(y)\n",
    "        except KeyError:\n",
    "            return np.array([-1])\n",
    "\n",
    "# Load the dataset\n",
    "df = pd.read_csv('Bowlers.csv')\n",
    "\n",
    "# Encode player names using CustomLabelEncoder\n",
    "le = CustomLabelEncoder()\n",
    "df['Player'] = le.fit_transform(df['Player'])\n",
    "\n",
    "# Extract relevant information from the 'BBI' column\n",
    "df['BBI_Wickets'] = df['BBI'].str.extract('(\\d+)').astype(float)\n",
    "df[['BBI_Wickets', 'BBI_Runs']] = df['BBI'].str.extract('(\\d+)/(\\d+)', expand=True)\n",
    "\n",
    "# Select relevant features and target variable\n",
    "selected_features = ['Wkts', 'Econ', 'BBI_Wickets', 'BBI_Runs', 'Ave']\n",
    "df_selected = df[selected_features]\n",
    "\n",
    "# Drop rows with missing values\n",
    "df_selected = df_selected.dropna()\n",
    "\n",
    "# Define features (X) and target variable (y)\n",
    "X = df_selected[['BBI_Wickets', 'BBI_Runs', 'Econ']]\n",
    "y = df_selected['Wkts']\n",
    "\n",
    "# Impute missing values\n",
    "imputer = SimpleImputer(strategy='mean')\n",
    "X_imputed = imputer.fit_transform(X)\n",
    "\n",
    "# Initialize and train the model\n",
    "model = LinearRegression()\n",
    "model.fit(X_imputed, y)\n",
    "\n",
    "# Now, you can use the trained model to predict the number of wickets for a given player in the next match\n",
    "def predict_wickets(player):\n",
    "    try:\n",
    "        # Encode the player name with handling unknown labels\n",
    "        player_encoded = le.transform([player])\n",
    "\n",
    "        if -1 in player_encoded:\n",
    "            print(f'Player {player} not found in the dataset.')\n",
    "            return None\n",
    "\n",
    "        # Extract relevant information from the dataset\n",
    "        player_data = df[df['Player'] == player_encoded[0]].iloc[0]\n",
    "        bbi_wickets = player_data['BBI_Wickets']\n",
    "        bbi_runs = player_data['BBI_Runs']\n",
    "        econ_rate = player_data['Econ']\n",
    "\n",
    "        # Make predictions using the model\n",
    "        input_data = [[bbi_wickets, econ_rate, bbi_runs]]\n",
    "        input_data_imputed = imputer.transform(input_data)\n",
    "        predictions = model.predict(input_data_imputed)\n",
    "\n",
    "        return predictions[0]\n",
    "    except KeyError:\n",
    "        print(f'Player {player} not found in the dataset.')\n",
    "        return None\n",
    "\n",
    "# Take input for player\n",
    "player_name = input(\"Enter the player name: \")\n",
    "\n",
    "# Make the prediction\n",
    "predicted_wickets = predict_wickets(player_name)\n",
    "\n",
    "if predicted_wickets is not None:\n",
    "    ave_column = df[df['Player'] == le.transform([player_name])[0]]['Ave'].values[0]\n",
    "    predicted_wickets /= ave_column\n",
    "    rounded_predicted_wickets = round(predicted_wickets)\n",
    "    print(f'Predicted wickets for {player_name} in the next match (normalized by Ave): {rounded_predicted_wickets}')\n"
   ]
  },
  {
   "cell_type": "code",
   "execution_count": null,
   "id": "4fc7a110",
   "metadata": {},
   "outputs": [],
   "source": []
  },
  {
   "cell_type": "code",
   "execution_count": null,
   "id": "c6721b87",
   "metadata": {},
   "outputs": [],
   "source": []
  },
  {
   "cell_type": "code",
   "execution_count": null,
   "id": "6eb4f7ae",
   "metadata": {},
   "outputs": [],
   "source": []
  }
 ],
 "metadata": {
  "kernelspec": {
   "display_name": "Python 3 (ipykernel)",
   "language": "python",
   "name": "python3"
  },
  "language_info": {
   "codemirror_mode": {
    "name": "ipython",
    "version": 3
   },
   "file_extension": ".py",
   "mimetype": "text/x-python",
   "name": "python",
   "nbconvert_exporter": "python",
   "pygments_lexer": "ipython3",
   "version": "3.10.12"
  }
 },
 "nbformat": 4,
 "nbformat_minor": 5
}
